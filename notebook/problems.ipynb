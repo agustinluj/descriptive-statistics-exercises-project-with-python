{
    "cells": [
        {
            "cell_type": "markdown",
            "id": "ac622319",
            "metadata": {},
            "source": [
                "# Descriptive statistics problems"
            ]
        },
        {
            "cell_type": "code",
            "execution_count": 2,
            "id": "dc3d40ca",
            "metadata": {},
            "outputs": [],
            "source": [
                "import numpy as np\n",
                "import pandas as pd"
            ]
        },
        {
            "cell_type": "markdown",
            "id": "5e0ab0d5",
            "metadata": {},
            "source": [
                "### Exercise 1\n",
                "\n",
                "We will use NumPy to obtain information to describe statistically.\n",
                "\n",
                "- Generate an array of 100 elements following a normal distribution.\n",
                "- Generate an array of 100 elements following a chi-square distribution with 3 degrees of freedom.\n",
                "- Calculate the main metrics and statistical measures that best describe the two vectors."
            ]
        },
        {
            "cell_type": "code",
            "execution_count": 3,
            "id": "34720ab6",
            "metadata": {},
            "outputs": [
                {
                    "data": {
                        "text/html": [
                            "<div>\n",
                            "<style scoped>\n",
                            "    .dataframe tbody tr th:only-of-type {\n",
                            "        vertical-align: middle;\n",
                            "    }\n",
                            "\n",
                            "    .dataframe tbody tr th {\n",
                            "        vertical-align: top;\n",
                            "    }\n",
                            "\n",
                            "    .dataframe thead th {\n",
                            "        text-align: right;\n",
                            "    }\n",
                            "</style>\n",
                            "<table border=\"1\" class=\"dataframe\">\n",
                            "  <thead>\n",
                            "    <tr style=\"text-align: right;\">\n",
                            "      <th></th>\n",
                            "      <th>Array Normal Dist</th>\n",
                            "      <th>Array Chi-Sq Dist</th>\n",
                            "    </tr>\n",
                            "  </thead>\n",
                            "  <tbody>\n",
                            "    <tr>\n",
                            "      <th>count</th>\n",
                            "      <td>100.000000</td>\n",
                            "      <td>100.000000</td>\n",
                            "    </tr>\n",
                            "    <tr>\n",
                            "      <th>mean</th>\n",
                            "      <td>0.021152</td>\n",
                            "      <td>2.857968</td>\n",
                            "    </tr>\n",
                            "    <tr>\n",
                            "      <th>std</th>\n",
                            "      <td>0.992279</td>\n",
                            "      <td>2.489814</td>\n",
                            "    </tr>\n",
                            "    <tr>\n",
                            "      <th>min</th>\n",
                            "      <td>-2.435482</td>\n",
                            "      <td>0.198042</td>\n",
                            "    </tr>\n",
                            "    <tr>\n",
                            "      <th>25%</th>\n",
                            "      <td>-0.645477</td>\n",
                            "      <td>1.073110</td>\n",
                            "    </tr>\n",
                            "    <tr>\n",
                            "      <th>50%</th>\n",
                            "      <td>0.077105</td>\n",
                            "      <td>2.141391</td>\n",
                            "    </tr>\n",
                            "    <tr>\n",
                            "      <th>75%</th>\n",
                            "      <td>0.773085</td>\n",
                            "      <td>3.641681</td>\n",
                            "    </tr>\n",
                            "    <tr>\n",
                            "      <th>max</th>\n",
                            "      <td>1.910218</td>\n",
                            "      <td>14.479524</td>\n",
                            "    </tr>\n",
                            "  </tbody>\n",
                            "</table>\n",
                            "</div>"
                        ],
                        "text/plain": [
                            "       Array Normal Dist  Array Chi-Sq Dist\n",
                            "count         100.000000         100.000000\n",
                            "mean            0.021152           2.857968\n",
                            "std             0.992279           2.489814\n",
                            "min            -2.435482           0.198042\n",
                            "25%            -0.645477           1.073110\n",
                            "50%             0.077105           2.141391\n",
                            "75%             0.773085           3.641681\n",
                            "max             1.910218          14.479524"
                        ]
                    },
                    "execution_count": 3,
                    "metadata": {},
                    "output_type": "execute_result"
                }
            ],
            "source": [
                "arr1 = np.random.normal(size=100)\n",
                "arr2 = np.random.chisquare(df=3,size=100) #df en este caso no es dataframe sino \"degrees of freedom\"\n",
                "df = pd.DataFrame({'Array Normal Dist': arr1, 'Array Chi-Sq Dist': arr2})\n",
                "df.describe()"
            ]
        },
        {
            "cell_type": "markdown",
            "id": "46c70c3d",
            "metadata": {},
            "source": [
                "### Exercise 2\n",
                "\n",
                "Write a Python program to calculate the standard deviation of the following data:\n",
                "\n",
                "```py\n",
                "data = [4, 2, 5, 8, 6]\n",
                "```"
            ]
        },
        {
            "cell_type": "code",
            "execution_count": 21,
            "id": "d590308e",
            "metadata": {},
            "outputs": [
                {
                    "name": "stdout",
                    "output_type": "stream",
                    "text": [
                        "La Desviación Estandar del conjunto \"Data\" es 2.0\n",
                        "La Desviación Estandar del conjunto \"Data\" es 2.0\n"
                    ]
                }
            ],
            "source": [
                "data = [4,2,5,8,6]\n",
                "print(f'La Desviación Estandar del conjunto \"Data\" es {np.std(data)}') \n",
                "#como me resulta demasiado facil que la consigna del ejercicio haya sido solo esto, entiendo que quiza lo que pide es una funcion...\n",
                "\n",
                "def calcular_std(anylist):\n",
                "    list_mean = np.mean(anylist)\n",
                "    lista_cuadrados = []\n",
                "    for i in anylist : \n",
                "        lista_cuadrados.append(( i - list_mean ) ** 2)\n",
                "    media_cuadrados = np.mean(lista_cuadrados)    \n",
                "    standart_deviation = media_cuadrados ** 0.5\n",
                "\n",
                "    return standart_deviation\n",
                "\n",
                "print(f'La Desviación Estandar del conjunto \"Data\" es {calcular_std(data)}')"
            ]
        },
        {
            "cell_type": "code",
            "execution_count": 29,
            "id": "2ae0039b",
            "metadata": {},
            "outputs": [
                {
                    "name": "stdout",
                    "output_type": "stream",
                    "text": [
                        "La Desviación Estandar del conjunto \"Data1\" es 29.00582455283766\n"
                    ]
                },
                {
                    "data": {
                        "text/plain": [
                            "np.float64(29.00582455283766)"
                        ]
                    },
                    "execution_count": 29,
                    "metadata": {},
                    "output_type": "execute_result"
                }
            ],
            "source": [
                "#prueba con datos masivos\n",
                "data1 = np.random.randint(0,100,10000)\n",
                "print(f'La Desviación Estandar del conjunto \"Data1\" es {calcular_std(data1)}')\n",
                "np.std(data1)"
            ]
        }
    ],
    "metadata": {
        "interpreter": {
            "hash": "9248718ffe6ce6938b217e69dbcc175ea21f4c6b28a317e96c05334edae734bb"
        },
        "kernelspec": {
            "display_name": "Python 3.9.12 ('ML-BOOTCAMP')",
            "language": "python",
            "name": "python3"
        },
        "language_info": {
            "codemirror_mode": {
                "name": "ipython",
                "version": 3
            },
            "file_extension": ".py",
            "mimetype": "text/x-python",
            "name": "python",
            "nbconvert_exporter": "python",
            "pygments_lexer": "ipython3",
            "version": "3.11.4"
        }
    },
    "nbformat": 4,
    "nbformat_minor": 5
}
